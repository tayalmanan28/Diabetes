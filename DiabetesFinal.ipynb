{
  "nbformat": 4,
  "nbformat_minor": 0,
  "metadata": {
    "colab": {
      "name": "DiabetesFinal.ipynb",
      "provenance": [],
      "collapsed_sections": []
    },
    "kernelspec": {
      "name": "python3",
      "display_name": "Python 3"
    }
  },
  "cells": [
    {
      "cell_type": "markdown",
      "metadata": {
        "id": "zXuyjRfkY_ru"
      },
      "source": [
        "Importing the Libraries"
      ]
    },
    {
      "cell_type": "code",
      "metadata": {
        "id": "K53bbMZZXtbz"
      },
      "source": [
        "import pickle \n",
        "import numpy as np\n",
        "from sklearn.ensemble import RandomForestClassifier\n",
        "from sklearn.metrics import accuracy_score"
      ],
      "execution_count": 1,
      "outputs": []
    },
    {
      "cell_type": "code",
      "metadata": {
        "id": "dNVPqZh9YWtr"
      },
      "source": [
        "filename = 'LogisticRegressionDiabetes.sav'"
      ],
      "execution_count": 2,
      "outputs": []
    },
    {
      "cell_type": "markdown",
      "metadata": {
        "id": "svoSB2GpZFDp"
      },
      "source": [
        "Loading the model"
      ]
    },
    {
      "cell_type": "code",
      "metadata": {
        "id": "gl6BT1GmYBVv"
      },
      "source": [
        "logReg = pickle.load(open(filename, 'rb'))"
      ],
      "execution_count": 4,
      "outputs": []
    },
    {
      "cell_type": "markdown",
      "metadata": {
        "id": "ZrVphbEBZL2K"
      },
      "source": [
        "Creating a random symptoms sample. The input shape should be (1, 8)"
      ]
    },
    {
      "cell_type": "code",
      "metadata": {
        "id": "dpcNY5VsYtn8"
      },
      "source": [
        "trial_numpy = np.array([1,\t97,\t64,\t19,\t82,\t18.2,\t0.299,\t21])\n",
        "trial_numpy = trial_numpy.reshape(1, 8)"
      ],
      "execution_count": 12,
      "outputs": []
    },
    {
      "cell_type": "markdown",
      "metadata": {
        "id": "L1WJw-5nZZYN"
      },
      "source": [
        "Predicting the disease for the created sample"
      ]
    },
    {
      "cell_type": "code",
      "metadata": {
        "colab": {
          "base_uri": "https://localhost:8080/"
        },
        "id": "bf3hrxFQYwxc",
        "outputId": "311a0751-d705-4e29-f8fe-5aec42f7a821"
      },
      "source": [
        "logReg.predict(trial_numpy)"
      ],
      "execution_count": 14,
      "outputs": [
        {
          "output_type": "execute_result",
          "data": {
            "text/plain": [
              "array([0])"
            ]
          },
          "metadata": {
            "tags": []
          },
          "execution_count": 14
        }
      ]
    },
    {
      "cell_type": "markdown",
      "metadata": {
        "id": "wa9P8Lo6kaWJ"
      },
      "source": [
        "1 => presence of Diabetes <br>\n",
        "0 => absence of Diabetes"
      ]
    },
    {
      "cell_type": "code",
      "metadata": {
        "id": "FGKCbo0-bD7i"
      },
      "source": [
        ""
      ],
      "execution_count": null,
      "outputs": []
    }
  ]
}